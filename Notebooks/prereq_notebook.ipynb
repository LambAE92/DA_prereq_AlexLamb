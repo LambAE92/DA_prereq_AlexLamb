{
 "cells": [
  {
   "cell_type": "code",
   "execution_count": 2,
   "id": "1d65ef72",
   "metadata": {},
   "outputs": [
    {
     "name": "stdout",
     "output_type": "stream",
     "text": [
      "Hello, World!\n"
     ]
    }
   ],
   "source": [
    "print(\"Hello, World!\")"
   ]
  },
  {
   "cell_type": "markdown",
   "id": "d06a6051",
   "metadata": {},
   "source": [
    "My name is Alex Lamb. I am an experienced professional working in higher ed as an instructional designer and data analyst. I am an aspiring agentic ai developer | ai-powered data analyst. I am excited to grow more in-depth with data analytics through the Code:You program and build a solid network of like-minded peers and employers. "
   ]
  }
 ],
 "metadata": {
  "kernelspec": {
   "display_name": "Python 3",
   "language": "python",
   "name": "python3"
  },
  "language_info": {
   "codemirror_mode": {
    "name": "ipython",
    "version": 3
   },
   "file_extension": ".py",
   "mimetype": "text/x-python",
   "name": "python",
   "nbconvert_exporter": "python",
   "pygments_lexer": "ipython3",
   "version": "3.13.5"
  }
 },
 "nbformat": 4,
 "nbformat_minor": 5
}
